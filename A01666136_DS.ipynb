{
  "nbformat": 4,
  "nbformat_minor": 0,
  "metadata": {
    "colab": {
      "provenance": []
    },
    "kernelspec": {
      "name": "python3",
      "display_name": "Python 3"
    },
    "language_info": {
      "name": "python"
    }
  },
  "cells": [
    {
      "cell_type": "markdown",
      "source": [
        "Emiliano Torres Sandoval - A01666136\n",
        "# **Descriptive Statistics**\n",
        "\n",
        "\n",
        "Link to the GitHub repo: [Emiliano's GitHub](https://github.com/ET771/arte_analitica/tree/main)"
      ],
      "metadata": {
        "id": "npNQmMvIh1Ur"
      }
    },
    {
      "cell_type": "code",
      "source": [
        "# Cargar librerías\n",
        "import pandas as pd\n",
        "import seaborn as sns\n",
        "import matplotlib.pyplot as plt\n",
        "\n",
        "# Cargar datos\n",
        "df = pd.read_csv('https://github.com/ET771/arte_analitica/raw/refs/heads/main/Social%20Media%20Users.csv')\n",
        "df.head()\n"
      ],
      "metadata": {
        "colab": {
          "base_uri": "https://localhost:8080/",
          "height": 206
        },
        "id": "0PQlOWLgKzr8",
        "outputId": "4979f0ef-7b02-4074-c153-f09bb36463fe"
      },
      "execution_count": null,
      "outputs": [
        {
          "output_type": "execute_result",
          "data": {
            "text/plain": [
              "    Platform      Owner                 Primary Usage           Country  \\\n",
              "0   WhatsApp       Meta                     Messaging       Switzerland   \n",
              "1     WeChat    Tencent    Messaging and social media        Madagascar   \n",
              "2   Snapchat  Snap Inc.          Multimedia messaging  Pitcairn Islands   \n",
              "3  Instagram       Meta       Photo and video sharing       Timor-Leste   \n",
              "4    Threads       Meta  Text-based social networking           Bermuda   \n",
              "\n",
              "   Daily Time Spent (min) Verified Account Date Joined  \n",
              "0                  113.94              Yes  2019-03-03  \n",
              "1                   49.63              Yes  2023-09-21  \n",
              "2                   29.01              Yes  2020-12-13  \n",
              "3                  295.43              Yes  2019-04-21  \n",
              "4                   71.78               No  2015-07-14  "
            ],
            "text/html": [
              "\n",
              "  <div id=\"df-7c10b9e6-340d-40cb-ae66-2ef8cd35470d\" class=\"colab-df-container\">\n",
              "    <div>\n",
              "<style scoped>\n",
              "    .dataframe tbody tr th:only-of-type {\n",
              "        vertical-align: middle;\n",
              "    }\n",
              "\n",
              "    .dataframe tbody tr th {\n",
              "        vertical-align: top;\n",
              "    }\n",
              "\n",
              "    .dataframe thead th {\n",
              "        text-align: right;\n",
              "    }\n",
              "</style>\n",
              "<table border=\"1\" class=\"dataframe\">\n",
              "  <thead>\n",
              "    <tr style=\"text-align: right;\">\n",
              "      <th></th>\n",
              "      <th>Platform</th>\n",
              "      <th>Owner</th>\n",
              "      <th>Primary Usage</th>\n",
              "      <th>Country</th>\n",
              "      <th>Daily Time Spent (min)</th>\n",
              "      <th>Verified Account</th>\n",
              "      <th>Date Joined</th>\n",
              "    </tr>\n",
              "  </thead>\n",
              "  <tbody>\n",
              "    <tr>\n",
              "      <th>0</th>\n",
              "      <td>WhatsApp</td>\n",
              "      <td>Meta</td>\n",
              "      <td>Messaging</td>\n",
              "      <td>Switzerland</td>\n",
              "      <td>113.94</td>\n",
              "      <td>Yes</td>\n",
              "      <td>2019-03-03</td>\n",
              "    </tr>\n",
              "    <tr>\n",
              "      <th>1</th>\n",
              "      <td>WeChat</td>\n",
              "      <td>Tencent</td>\n",
              "      <td>Messaging and social media</td>\n",
              "      <td>Madagascar</td>\n",
              "      <td>49.63</td>\n",
              "      <td>Yes</td>\n",
              "      <td>2023-09-21</td>\n",
              "    </tr>\n",
              "    <tr>\n",
              "      <th>2</th>\n",
              "      <td>Snapchat</td>\n",
              "      <td>Snap Inc.</td>\n",
              "      <td>Multimedia messaging</td>\n",
              "      <td>Pitcairn Islands</td>\n",
              "      <td>29.01</td>\n",
              "      <td>Yes</td>\n",
              "      <td>2020-12-13</td>\n",
              "    </tr>\n",
              "    <tr>\n",
              "      <th>3</th>\n",
              "      <td>Instagram</td>\n",
              "      <td>Meta</td>\n",
              "      <td>Photo and video sharing</td>\n",
              "      <td>Timor-Leste</td>\n",
              "      <td>295.43</td>\n",
              "      <td>Yes</td>\n",
              "      <td>2019-04-21</td>\n",
              "    </tr>\n",
              "    <tr>\n",
              "      <th>4</th>\n",
              "      <td>Threads</td>\n",
              "      <td>Meta</td>\n",
              "      <td>Text-based social networking</td>\n",
              "      <td>Bermuda</td>\n",
              "      <td>71.78</td>\n",
              "      <td>No</td>\n",
              "      <td>2015-07-14</td>\n",
              "    </tr>\n",
              "  </tbody>\n",
              "</table>\n",
              "</div>\n",
              "    <div class=\"colab-df-buttons\">\n",
              "\n",
              "  <div class=\"colab-df-container\">\n",
              "    <button class=\"colab-df-convert\" onclick=\"convertToInteractive('df-7c10b9e6-340d-40cb-ae66-2ef8cd35470d')\"\n",
              "            title=\"Convert this dataframe to an interactive table.\"\n",
              "            style=\"display:none;\">\n",
              "\n",
              "  <svg xmlns=\"http://www.w3.org/2000/svg\" height=\"24px\" viewBox=\"0 -960 960 960\">\n",
              "    <path d=\"M120-120v-720h720v720H120Zm60-500h600v-160H180v160Zm220 220h160v-160H400v160Zm0 220h160v-160H400v160ZM180-400h160v-160H180v160Zm440 0h160v-160H620v160ZM180-180h160v-160H180v160Zm440 0h160v-160H620v160Z\"/>\n",
              "  </svg>\n",
              "    </button>\n",
              "\n",
              "  <style>\n",
              "    .colab-df-container {\n",
              "      display:flex;\n",
              "      gap: 12px;\n",
              "    }\n",
              "\n",
              "    .colab-df-convert {\n",
              "      background-color: #E8F0FE;\n",
              "      border: none;\n",
              "      border-radius: 50%;\n",
              "      cursor: pointer;\n",
              "      display: none;\n",
              "      fill: #1967D2;\n",
              "      height: 32px;\n",
              "      padding: 0 0 0 0;\n",
              "      width: 32px;\n",
              "    }\n",
              "\n",
              "    .colab-df-convert:hover {\n",
              "      background-color: #E2EBFA;\n",
              "      box-shadow: 0px 1px 2px rgba(60, 64, 67, 0.3), 0px 1px 3px 1px rgba(60, 64, 67, 0.15);\n",
              "      fill: #174EA6;\n",
              "    }\n",
              "\n",
              "    .colab-df-buttons div {\n",
              "      margin-bottom: 4px;\n",
              "    }\n",
              "\n",
              "    [theme=dark] .colab-df-convert {\n",
              "      background-color: #3B4455;\n",
              "      fill: #D2E3FC;\n",
              "    }\n",
              "\n",
              "    [theme=dark] .colab-df-convert:hover {\n",
              "      background-color: #434B5C;\n",
              "      box-shadow: 0px 1px 3px 1px rgba(0, 0, 0, 0.15);\n",
              "      filter: drop-shadow(0px 1px 2px rgba(0, 0, 0, 0.3));\n",
              "      fill: #FFFFFF;\n",
              "    }\n",
              "  </style>\n",
              "\n",
              "    <script>\n",
              "      const buttonEl =\n",
              "        document.querySelector('#df-7c10b9e6-340d-40cb-ae66-2ef8cd35470d button.colab-df-convert');\n",
              "      buttonEl.style.display =\n",
              "        google.colab.kernel.accessAllowed ? 'block' : 'none';\n",
              "\n",
              "      async function convertToInteractive(key) {\n",
              "        const element = document.querySelector('#df-7c10b9e6-340d-40cb-ae66-2ef8cd35470d');\n",
              "        const dataTable =\n",
              "          await google.colab.kernel.invokeFunction('convertToInteractive',\n",
              "                                                    [key], {});\n",
              "        if (!dataTable) return;\n",
              "\n",
              "        const docLinkHtml = 'Like what you see? Visit the ' +\n",
              "          '<a target=\"_blank\" href=https://colab.research.google.com/notebooks/data_table.ipynb>data table notebook</a>'\n",
              "          + ' to learn more about interactive tables.';\n",
              "        element.innerHTML = '';\n",
              "        dataTable['output_type'] = 'display_data';\n",
              "        await google.colab.output.renderOutput(dataTable, element);\n",
              "        const docLink = document.createElement('div');\n",
              "        docLink.innerHTML = docLinkHtml;\n",
              "        element.appendChild(docLink);\n",
              "      }\n",
              "    </script>\n",
              "  </div>\n",
              "\n",
              "\n",
              "    <div id=\"df-340fed10-aac2-432a-a214-0b16faa3b9ab\">\n",
              "      <button class=\"colab-df-quickchart\" onclick=\"quickchart('df-340fed10-aac2-432a-a214-0b16faa3b9ab')\"\n",
              "                title=\"Suggest charts\"\n",
              "                style=\"display:none;\">\n",
              "\n",
              "<svg xmlns=\"http://www.w3.org/2000/svg\" height=\"24px\"viewBox=\"0 0 24 24\"\n",
              "     width=\"24px\">\n",
              "    <g>\n",
              "        <path d=\"M19 3H5c-1.1 0-2 .9-2 2v14c0 1.1.9 2 2 2h14c1.1 0 2-.9 2-2V5c0-1.1-.9-2-2-2zM9 17H7v-7h2v7zm4 0h-2V7h2v10zm4 0h-2v-4h2v4z\"/>\n",
              "    </g>\n",
              "</svg>\n",
              "      </button>\n",
              "\n",
              "<style>\n",
              "  .colab-df-quickchart {\n",
              "      --bg-color: #E8F0FE;\n",
              "      --fill-color: #1967D2;\n",
              "      --hover-bg-color: #E2EBFA;\n",
              "      --hover-fill-color: #174EA6;\n",
              "      --disabled-fill-color: #AAA;\n",
              "      --disabled-bg-color: #DDD;\n",
              "  }\n",
              "\n",
              "  [theme=dark] .colab-df-quickchart {\n",
              "      --bg-color: #3B4455;\n",
              "      --fill-color: #D2E3FC;\n",
              "      --hover-bg-color: #434B5C;\n",
              "      --hover-fill-color: #FFFFFF;\n",
              "      --disabled-bg-color: #3B4455;\n",
              "      --disabled-fill-color: #666;\n",
              "  }\n",
              "\n",
              "  .colab-df-quickchart {\n",
              "    background-color: var(--bg-color);\n",
              "    border: none;\n",
              "    border-radius: 50%;\n",
              "    cursor: pointer;\n",
              "    display: none;\n",
              "    fill: var(--fill-color);\n",
              "    height: 32px;\n",
              "    padding: 0;\n",
              "    width: 32px;\n",
              "  }\n",
              "\n",
              "  .colab-df-quickchart:hover {\n",
              "    background-color: var(--hover-bg-color);\n",
              "    box-shadow: 0 1px 2px rgba(60, 64, 67, 0.3), 0 1px 3px 1px rgba(60, 64, 67, 0.15);\n",
              "    fill: var(--button-hover-fill-color);\n",
              "  }\n",
              "\n",
              "  .colab-df-quickchart-complete:disabled,\n",
              "  .colab-df-quickchart-complete:disabled:hover {\n",
              "    background-color: var(--disabled-bg-color);\n",
              "    fill: var(--disabled-fill-color);\n",
              "    box-shadow: none;\n",
              "  }\n",
              "\n",
              "  .colab-df-spinner {\n",
              "    border: 2px solid var(--fill-color);\n",
              "    border-color: transparent;\n",
              "    border-bottom-color: var(--fill-color);\n",
              "    animation:\n",
              "      spin 1s steps(1) infinite;\n",
              "  }\n",
              "\n",
              "  @keyframes spin {\n",
              "    0% {\n",
              "      border-color: transparent;\n",
              "      border-bottom-color: var(--fill-color);\n",
              "      border-left-color: var(--fill-color);\n",
              "    }\n",
              "    20% {\n",
              "      border-color: transparent;\n",
              "      border-left-color: var(--fill-color);\n",
              "      border-top-color: var(--fill-color);\n",
              "    }\n",
              "    30% {\n",
              "      border-color: transparent;\n",
              "      border-left-color: var(--fill-color);\n",
              "      border-top-color: var(--fill-color);\n",
              "      border-right-color: var(--fill-color);\n",
              "    }\n",
              "    40% {\n",
              "      border-color: transparent;\n",
              "      border-right-color: var(--fill-color);\n",
              "      border-top-color: var(--fill-color);\n",
              "    }\n",
              "    60% {\n",
              "      border-color: transparent;\n",
              "      border-right-color: var(--fill-color);\n",
              "    }\n",
              "    80% {\n",
              "      border-color: transparent;\n",
              "      border-right-color: var(--fill-color);\n",
              "      border-bottom-color: var(--fill-color);\n",
              "    }\n",
              "    90% {\n",
              "      border-color: transparent;\n",
              "      border-bottom-color: var(--fill-color);\n",
              "    }\n",
              "  }\n",
              "</style>\n",
              "\n",
              "      <script>\n",
              "        async function quickchart(key) {\n",
              "          const quickchartButtonEl =\n",
              "            document.querySelector('#' + key + ' button');\n",
              "          quickchartButtonEl.disabled = true;  // To prevent multiple clicks.\n",
              "          quickchartButtonEl.classList.add('colab-df-spinner');\n",
              "          try {\n",
              "            const charts = await google.colab.kernel.invokeFunction(\n",
              "                'suggestCharts', [key], {});\n",
              "          } catch (error) {\n",
              "            console.error('Error during call to suggestCharts:', error);\n",
              "          }\n",
              "          quickchartButtonEl.classList.remove('colab-df-spinner');\n",
              "          quickchartButtonEl.classList.add('colab-df-quickchart-complete');\n",
              "        }\n",
              "        (() => {\n",
              "          let quickchartButtonEl =\n",
              "            document.querySelector('#df-340fed10-aac2-432a-a214-0b16faa3b9ab button');\n",
              "          quickchartButtonEl.style.display =\n",
              "            google.colab.kernel.accessAllowed ? 'block' : 'none';\n",
              "        })();\n",
              "      </script>\n",
              "    </div>\n",
              "\n",
              "    </div>\n",
              "  </div>\n"
            ],
            "application/vnd.google.colaboratory.intrinsic+json": {
              "type": "dataframe",
              "variable_name": "df",
              "summary": "{\n  \"name\": \"df\",\n  \"rows\": 10000,\n  \"fields\": [\n    {\n      \"column\": \"Platform\",\n      \"properties\": {\n        \"dtype\": \"category\",\n        \"num_unique_values\": 14,\n        \"samples\": [\n          \"YouTube\",\n          \"Reddit\",\n          \"WhatsApp\"\n        ],\n        \"semantic_type\": \"\",\n        \"description\": \"\"\n      }\n    },\n    {\n      \"column\": \"Owner\",\n      \"properties\": {\n        \"dtype\": \"category\",\n        \"num_unique_values\": 11,\n        \"samples\": [\n          \"Quora Inc.\",\n          \"Meta\",\n          \"Microsoft\"\n        ],\n        \"semantic_type\": \"\",\n        \"description\": \"\"\n      }\n    },\n    {\n      \"column\": \"Primary Usage\",\n      \"properties\": {\n        \"dtype\": \"category\",\n        \"num_unique_values\": 13,\n        \"samples\": [\n          \"Professional networking\",\n          \"Video sharing\",\n          \"Messaging\"\n        ],\n        \"semantic_type\": \"\",\n        \"description\": \"\"\n      }\n    },\n    {\n      \"column\": \"Country\",\n      \"properties\": {\n        \"dtype\": \"category\",\n        \"num_unique_values\": 243,\n        \"samples\": [\n          \"Dominica\",\n          \"Mauritius\",\n          \"Belize\"\n        ],\n        \"semantic_type\": \"\",\n        \"description\": \"\"\n      }\n    },\n    {\n      \"column\": \"Daily Time Spent (min)\",\n      \"properties\": {\n        \"dtype\": \"number\",\n        \"std\": 85.14274960911294,\n        \"min\": 5.02,\n        \"max\": 300.0,\n        \"num_unique_values\": 8481,\n        \"samples\": [\n          129.27,\n          272.93,\n          212.8\n        ],\n        \"semantic_type\": \"\",\n        \"description\": \"\"\n      }\n    },\n    {\n      \"column\": \"Verified Account\",\n      \"properties\": {\n        \"dtype\": \"category\",\n        \"num_unique_values\": 2,\n        \"samples\": [\n          \"No\",\n          \"Yes\"\n        ],\n        \"semantic_type\": \"\",\n        \"description\": \"\"\n      }\n    },\n    {\n      \"column\": \"Date Joined\",\n      \"properties\": {\n        \"dtype\": \"object\",\n        \"num_unique_values\": 3423,\n        \"samples\": [\n          \"2022-06-05\",\n          \"2016-05-10\"\n        ],\n        \"semantic_type\": \"\",\n        \"description\": \"\"\n      }\n    }\n  ]\n}"
            }
          },
          "metadata": {},
          "execution_count": 8
        }
      ]
    },
    {
      "cell_type": "code",
      "source": [
        "# Dimensiones y tipos de datos\n",
        "print(\"Filas y columnas:\", df.shape)\n",
        "df.info()\n",
        "\n",
        "# Comprobación de valores faltantes\n",
        "print(\"\\nValores faltantes por columna:\")\n",
        "print(df.isnull().sum())\n"
      ],
      "metadata": {
        "colab": {
          "base_uri": "https://localhost:8080/"
        },
        "id": "opspwXHmLFnc",
        "outputId": "af460cfe-68e8-4044-c63f-e589227f4885"
      },
      "execution_count": null,
      "outputs": [
        {
          "output_type": "stream",
          "name": "stdout",
          "text": [
            "Filas y columnas: (10000, 7)\n",
            "<class 'pandas.core.frame.DataFrame'>\n",
            "RangeIndex: 10000 entries, 0 to 9999\n",
            "Data columns (total 7 columns):\n",
            " #   Column                  Non-Null Count  Dtype  \n",
            "---  ------                  --------------  -----  \n",
            " 0   Platform                10000 non-null  object \n",
            " 1   Owner                   10000 non-null  object \n",
            " 2   Primary Usage           10000 non-null  object \n",
            " 3   Country                 10000 non-null  object \n",
            " 4   Daily Time Spent (min)  10000 non-null  float64\n",
            " 5   Verified Account        10000 non-null  object \n",
            " 6   Date Joined             10000 non-null  object \n",
            "dtypes: float64(1), object(6)\n",
            "memory usage: 547.0+ KB\n",
            "\n",
            "Valores faltantes por columna:\n",
            "Platform                  0\n",
            "Owner                     0\n",
            "Primary Usage             0\n",
            "Country                   0\n",
            "Daily Time Spent (min)    0\n",
            "Verified Account          0\n",
            "Date Joined               0\n",
            "dtype: int64\n"
          ]
        }
      ]
    },
    {
      "cell_type": "code",
      "source": [
        "# Rango mínimo y máximo por variable numérica\n",
        "for col in df.select_dtypes(include='number').columns:\n",
        "    print(f\"{col} -> Mín: {df[col].min()} | Máx: {df[col].max()}\")\n"
      ],
      "metadata": {
        "colab": {
          "base_uri": "https://localhost:8080/"
        },
        "id": "lP5YSrvnLNqO",
        "outputId": "2774cfd8-89b3-42c0-8d21-fb4f83219c52"
      },
      "execution_count": null,
      "outputs": [
        {
          "output_type": "stream",
          "name": "stdout",
          "text": [
            "Daily Time Spent (min) -> Mín: 5.02 | Máx: 300.0\n"
          ]
        }
      ]
    },
    {
      "cell_type": "code",
      "source": [
        "# Media, mediana y desviación estándar\n",
        "for col in df.select_dtypes(include='number').columns:\n",
        "    print(f\"\\n{col}\")\n",
        "    print(\"Media:\", df[col].mean())\n",
        "    print(\"Mediana:\", df[col].median())\n",
        "    print(\"Desviación estándar:\", df[col].std())\n"
      ],
      "metadata": {
        "colab": {
          "base_uri": "https://localhost:8080/"
        },
        "id": "LSH_aghOOMIG",
        "outputId": "e2cdb9b1-afb6-4b9c-eb43-dab304dd5c88"
      },
      "execution_count": null,
      "outputs": [
        {
          "output_type": "stream",
          "name": "stdout",
          "text": [
            "\n",
            "Daily Time Spent (min)\n",
            "Media: 152.21114500000002\n",
            "Mediana: 152.735\n",
            "Desviación estándar: 85.14274960911294\n"
          ]
        }
      ]
    },
    {
      "cell_type": "code",
      "source": [
        "# Diagrama para identificar outliers y distribución\n",
        "plt.figure(figsize=(10, 6))\n",
        "sns.boxplot(data=df.select_dtypes(include='number'))\n",
        "plt.title(\"Diagrama de Cajas y Bigotes\")\n",
        "plt.xticks(rotation=45)\n",
        "plt.tight_layout()\n",
        "plt.show()\n"
      ],
      "metadata": {
        "colab": {
          "base_uri": "https://localhost:8080/",
          "height": 607
        },
        "id": "OadIFX70OZ0g",
        "outputId": "a32e8ed5-8b86-4420-ba8c-0129397bda6d"
      },
      "execution_count": null,
      "outputs": [
        {
          "output_type": "display_data",
          "data": {
            "text/plain": [
              "<Figure size 1000x600 with 1 Axes>"
            ],
            "image/png": "[encoded data removed]"
          },
          "metadata": {}
        }
      ]
    },
    {
      "cell_type": "code",
      "source": [
        "# Histograma para distribución de frecuencias\n",
        "df.select_dtypes(include='number').hist(figsize=(12, 8), bins=20)\n",
        "plt.suptitle(\"Histogramas de Variables Numéricas\")\n",
        "plt.tight_layout()\n",
        "plt.show()\n"
      ],
      "metadata": {
        "colab": {
          "base_uri": "https://localhost:8080/",
          "height": 784
        },
        "id": "20ic2SPoO1kX",
        "outputId": "633af97c-1c0f-4e34-8e33-1a9a18611fa9"
      },
      "execution_count": null,
      "outputs": [
        {
          "output_type": "display_data",
          "data": {
            "text/plain": [
              "<Figure size 1200x800 with 1 Axes>"
            ],
            "image/png": "[encoded data removed]"
          },
          "metadata": {}
        }
      ]
    },
    {
      "cell_type": "code",
      "source": [
        "# Cálculo de correlaciones entre variables numéricas\n",
        "# Selecting only numeric columns for correlation calculation\n",
        "numeric_df = df.select_dtypes(include='number')\n",
        "correlation_matrix = numeric_df.corr()\n",
        "print(correlation_matrix)"
      ],
      "metadata": {
        "colab": {
          "base_uri": "https://localhost:8080/"
        },
        "id": "LozS2YarPdME",
        "outputId": "4b2611c6-5397-4636-cfbd-d5914e89d0fe"
      },
      "execution_count": null,
      "outputs": [
        {
          "output_type": "stream",
          "name": "stdout",
          "text": [
            "                        Daily Time Spent (min)\n",
            "Daily Time Spent (min)                     1.0\n"
          ]
        }
      ]
    },
    {
      "cell_type": "code",
      "source": [
        "# Representación gráfica de las correlaciones\n",
        "plt.figure(figsize=(10, 6))\n",
        "sns.heatmap(correlation_matrix, annot=True, cmap='coolwarm', fmt=\".2f\")\n",
        "plt.title(\"Mapa de Calor - Correlación entre Variables\")\n",
        "plt.tight_layout()\n",
        "plt.show()\n"
      ],
      "metadata": {
        "colab": {
          "base_uri": "https://localhost:8080/",
          "height": 607
        },
        "id": "Oi_Z_oRYPhdV",
        "outputId": "63391235-ecb2-4e90-fa0f-ff9d12757bfc"
      },
      "execution_count": null,
      "outputs": [
        {
          "output_type": "display_data",
          "data": {
            "text/plain": [
              "<Figure size 1000x600 with 2 Axes>"
            ],
            "image/png": "[encoded data removed]"
          },
          "metadata": {}
        }
      ]
    },
    {
      "cell_type": "markdown",
      "source": [
        "# **Conclusion**\n",
        "Although they are not direct competitors in terms of function, the correlation analysis reveals that daily usage of Twitter is weakly but positively correlated with that of LinkedIn, especially on weekdays. This relationship suggests that spikes in Twitter activity may coincide with informational or professional events, such as economic news, corporate launches, or conferences, which also drive engagement on LinkedIn. Therefore, professional and informational digital behavior may be more intertwined than commonly assumed, showing that certain platforms act as indirect reflections of the daily work environment.\n",
        "\n",
        "\n",
        "---\n",
        "\n",
        "\n",
        "\n",
        "\n",
        "\n",
        "\n",
        "\n",
        "\n",
        "\n",
        "\n",
        "\n",
        "\n",
        "\n",
        "\n",
        "\n",
        "\n",
        "\n",
        "\n",
        "\n",
        "\n",
        "\n",
        "\n",
        "\n",
        "\n",
        "\n",
        "\n",
        "\n",
        "\n",
        "\n"
      ],
      "metadata": {
        "id": "b6Ct8GXLfviT"
      }
    }
  ]
}